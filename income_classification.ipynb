{
 "cells": [
  {
   "cell_type": "code",
   "execution_count": 1,
   "metadata": {
    "collapsed": true
   },
   "outputs": [],
   "source": [
    "import pandas as pd\n",
    "import numpy as np\n",
    "import matplotlib.pyplot as plt\n",
    "import seaborn as sns\n",
    "%matplotlib inline"
   ]
  },
  {
   "cell_type": "code",
   "execution_count": 2,
   "metadata": {
    "collapsed": true
   },
   "outputs": [],
   "source": [
    "income = pd.read_csv('adult_income.csv')"
   ]
  },
  {
   "cell_type": "code",
   "execution_count": 3,
   "metadata": {},
   "outputs": [
    {
     "data": {
      "text/html": [
       "<div>\n",
       "<table border=\"1\" class=\"dataframe\">\n",
       "  <thead>\n",
       "    <tr style=\"text-align: right;\">\n",
       "      <th></th>\n",
       "      <th>age</th>\n",
       "      <th>workclass</th>\n",
       "      <th>fnlwgt</th>\n",
       "      <th>education</th>\n",
       "      <th>education.num</th>\n",
       "      <th>marital.status</th>\n",
       "      <th>occupation</th>\n",
       "      <th>relationship</th>\n",
       "      <th>race</th>\n",
       "      <th>sex</th>\n",
       "      <th>capital.gain</th>\n",
       "      <th>capital.loss</th>\n",
       "      <th>hours.per.week</th>\n",
       "      <th>native.country</th>\n",
       "      <th>income</th>\n",
       "    </tr>\n",
       "  </thead>\n",
       "  <tbody>\n",
       "    <tr>\n",
       "      <th>0</th>\n",
       "      <td>90</td>\n",
       "      <td>?</td>\n",
       "      <td>77053</td>\n",
       "      <td>HS-grad</td>\n",
       "      <td>9</td>\n",
       "      <td>Widowed</td>\n",
       "      <td>?</td>\n",
       "      <td>Not-in-family</td>\n",
       "      <td>White</td>\n",
       "      <td>Female</td>\n",
       "      <td>0</td>\n",
       "      <td>4356</td>\n",
       "      <td>40</td>\n",
       "      <td>United-States</td>\n",
       "      <td>&lt;=50K</td>\n",
       "    </tr>\n",
       "    <tr>\n",
       "      <th>1</th>\n",
       "      <td>82</td>\n",
       "      <td>Private</td>\n",
       "      <td>132870</td>\n",
       "      <td>HS-grad</td>\n",
       "      <td>9</td>\n",
       "      <td>Widowed</td>\n",
       "      <td>Exec-managerial</td>\n",
       "      <td>Not-in-family</td>\n",
       "      <td>White</td>\n",
       "      <td>Female</td>\n",
       "      <td>0</td>\n",
       "      <td>4356</td>\n",
       "      <td>18</td>\n",
       "      <td>United-States</td>\n",
       "      <td>&lt;=50K</td>\n",
       "    </tr>\n",
       "    <tr>\n",
       "      <th>2</th>\n",
       "      <td>66</td>\n",
       "      <td>?</td>\n",
       "      <td>186061</td>\n",
       "      <td>Some-college</td>\n",
       "      <td>10</td>\n",
       "      <td>Widowed</td>\n",
       "      <td>?</td>\n",
       "      <td>Unmarried</td>\n",
       "      <td>Black</td>\n",
       "      <td>Female</td>\n",
       "      <td>0</td>\n",
       "      <td>4356</td>\n",
       "      <td>40</td>\n",
       "      <td>United-States</td>\n",
       "      <td>&lt;=50K</td>\n",
       "    </tr>\n",
       "    <tr>\n",
       "      <th>3</th>\n",
       "      <td>54</td>\n",
       "      <td>Private</td>\n",
       "      <td>140359</td>\n",
       "      <td>7th-8th</td>\n",
       "      <td>4</td>\n",
       "      <td>Divorced</td>\n",
       "      <td>Machine-op-inspct</td>\n",
       "      <td>Unmarried</td>\n",
       "      <td>White</td>\n",
       "      <td>Female</td>\n",
       "      <td>0</td>\n",
       "      <td>3900</td>\n",
       "      <td>40</td>\n",
       "      <td>United-States</td>\n",
       "      <td>&lt;=50K</td>\n",
       "    </tr>\n",
       "    <tr>\n",
       "      <th>4</th>\n",
       "      <td>41</td>\n",
       "      <td>Private</td>\n",
       "      <td>264663</td>\n",
       "      <td>Some-college</td>\n",
       "      <td>10</td>\n",
       "      <td>Separated</td>\n",
       "      <td>Prof-specialty</td>\n",
       "      <td>Own-child</td>\n",
       "      <td>White</td>\n",
       "      <td>Female</td>\n",
       "      <td>0</td>\n",
       "      <td>3900</td>\n",
       "      <td>40</td>\n",
       "      <td>United-States</td>\n",
       "      <td>&lt;=50K</td>\n",
       "    </tr>\n",
       "  </tbody>\n",
       "</table>\n",
       "</div>"
      ],
      "text/plain": [
       "   age workclass  fnlwgt     education  education.num marital.status  \\\n",
       "0   90         ?   77053       HS-grad              9        Widowed   \n",
       "1   82   Private  132870       HS-grad              9        Widowed   \n",
       "2   66         ?  186061  Some-college             10        Widowed   \n",
       "3   54   Private  140359       7th-8th              4       Divorced   \n",
       "4   41   Private  264663  Some-college             10      Separated   \n",
       "\n",
       "          occupation   relationship   race     sex  capital.gain  \\\n",
       "0                  ?  Not-in-family  White  Female             0   \n",
       "1    Exec-managerial  Not-in-family  White  Female             0   \n",
       "2                  ?      Unmarried  Black  Female             0   \n",
       "3  Machine-op-inspct      Unmarried  White  Female             0   \n",
       "4     Prof-specialty      Own-child  White  Female             0   \n",
       "\n",
       "   capital.loss  hours.per.week native.country income  \n",
       "0          4356              40  United-States  <=50K  \n",
       "1          4356              18  United-States  <=50K  \n",
       "2          4356              40  United-States  <=50K  \n",
       "3          3900              40  United-States  <=50K  \n",
       "4          3900              40  United-States  <=50K  "
      ]
     },
     "execution_count": 3,
     "metadata": {},
     "output_type": "execute_result"
    }
   ],
   "source": [
    "income.head()"
   ]
  },
  {
   "cell_type": "code",
   "execution_count": 4,
   "metadata": {
    "collapsed": true
   },
   "outputs": [],
   "source": [
    "income.columns = income.columns.str.replace('.','_')"
   ]
  },
  {
   "cell_type": "code",
   "execution_count": 5,
   "metadata": {
    "collapsed": true
   },
   "outputs": [],
   "source": [
    "income['income_map'] = income.income.map({'<=50K':0, '>50K': 1})\n",
    "income['sex_map'] = income.sex.map({'Female':0, 'Male':1})\n",
    "income['race_map']=income.race.map({'White':0, 'Black':1, \n",
    "                                    'Asian-Pac-Islander':2, 'Amer-Indian-Eskimo':3})\n",
    "income['marital_map'] = income.marital_status.map({'Widowed':0, 'Divorced':1, 'Separated':2,\n",
    "                                                  'Never-married':3, 'Married-civ-spouse':4,\n",
    "                                                  'Married-spouse-absent':5, 'Married-AF-spouse':6})\n",
    "income['rel_map']=income.relationship.map({'Not-in-family':0, 'Unmarried':0, \n",
    "                                           'Own-child':0, 'Other-relative':0, \n",
    "                                           'Husband':1, 'Wife':1})\n",
    "income['work_map']=income.workclass.map({'?':0, 'Private':1, 'State-gov':2, 'Federal-gov':3, \n",
    "                                        'Self-emp-not-inc':4, 'Self-emp-inc': 5, 'Local-gov': 6,\n",
    "                                        'Without-pay':7, 'Never-worked':8})"
   ]
  },
  {
   "cell_type": "code",
   "execution_count": 6,
   "metadata": {
    "collapsed": true
   },
   "outputs": [],
   "source": [
    "num_cols = ['age', 'sex_map', 'race_map','education_num', 'work_map', \n",
    "            'marital_map', 'rel_map', 'hours_per_week','capital_gain', 'capital_loss', \n",
    "            'fnlwgt', 'income_map']"
   ]
  },
  {
   "cell_type": "code",
   "execution_count": 7,
   "metadata": {
    "collapsed": true
   },
   "outputs": [],
   "source": [
    "income=income[num_cols].fillna(-9999)"
   ]
  },
  {
   "cell_type": "code",
   "execution_count": 8,
   "metadata": {},
   "outputs": [
    {
     "data": {
      "text/html": [
       "<div>\n",
       "<table border=\"1\" class=\"dataframe\">\n",
       "  <thead>\n",
       "    <tr style=\"text-align: right;\">\n",
       "      <th></th>\n",
       "      <th>age</th>\n",
       "      <th>sex_map</th>\n",
       "      <th>race_map</th>\n",
       "      <th>education_num</th>\n",
       "      <th>work_map</th>\n",
       "      <th>marital_map</th>\n",
       "      <th>rel_map</th>\n",
       "      <th>hours_per_week</th>\n",
       "      <th>capital_gain</th>\n",
       "      <th>capital_loss</th>\n",
       "      <th>fnlwgt</th>\n",
       "      <th>income_map</th>\n",
       "    </tr>\n",
       "  </thead>\n",
       "  <tbody>\n",
       "    <tr>\n",
       "      <th>0</th>\n",
       "      <td>90</td>\n",
       "      <td>0</td>\n",
       "      <td>0.0</td>\n",
       "      <td>9</td>\n",
       "      <td>0</td>\n",
       "      <td>0</td>\n",
       "      <td>0</td>\n",
       "      <td>40</td>\n",
       "      <td>0</td>\n",
       "      <td>4356</td>\n",
       "      <td>77053</td>\n",
       "      <td>0</td>\n",
       "    </tr>\n",
       "    <tr>\n",
       "      <th>1</th>\n",
       "      <td>82</td>\n",
       "      <td>0</td>\n",
       "      <td>0.0</td>\n",
       "      <td>9</td>\n",
       "      <td>1</td>\n",
       "      <td>0</td>\n",
       "      <td>0</td>\n",
       "      <td>18</td>\n",
       "      <td>0</td>\n",
       "      <td>4356</td>\n",
       "      <td>132870</td>\n",
       "      <td>0</td>\n",
       "    </tr>\n",
       "    <tr>\n",
       "      <th>2</th>\n",
       "      <td>66</td>\n",
       "      <td>0</td>\n",
       "      <td>1.0</td>\n",
       "      <td>10</td>\n",
       "      <td>0</td>\n",
       "      <td>0</td>\n",
       "      <td>0</td>\n",
       "      <td>40</td>\n",
       "      <td>0</td>\n",
       "      <td>4356</td>\n",
       "      <td>186061</td>\n",
       "      <td>0</td>\n",
       "    </tr>\n",
       "    <tr>\n",
       "      <th>3</th>\n",
       "      <td>54</td>\n",
       "      <td>0</td>\n",
       "      <td>0.0</td>\n",
       "      <td>4</td>\n",
       "      <td>1</td>\n",
       "      <td>1</td>\n",
       "      <td>0</td>\n",
       "      <td>40</td>\n",
       "      <td>0</td>\n",
       "      <td>3900</td>\n",
       "      <td>140359</td>\n",
       "      <td>0</td>\n",
       "    </tr>\n",
       "    <tr>\n",
       "      <th>4</th>\n",
       "      <td>41</td>\n",
       "      <td>0</td>\n",
       "      <td>0.0</td>\n",
       "      <td>10</td>\n",
       "      <td>1</td>\n",
       "      <td>2</td>\n",
       "      <td>0</td>\n",
       "      <td>40</td>\n",
       "      <td>0</td>\n",
       "      <td>3900</td>\n",
       "      <td>264663</td>\n",
       "      <td>0</td>\n",
       "    </tr>\n",
       "  </tbody>\n",
       "</table>\n",
       "</div>"
      ],
      "text/plain": [
       "   age  sex_map  race_map  education_num  work_map  marital_map  rel_map  \\\n",
       "0   90        0       0.0              9         0            0        0   \n",
       "1   82        0       0.0              9         1            0        0   \n",
       "2   66        0       1.0             10         0            0        0   \n",
       "3   54        0       0.0              4         1            1        0   \n",
       "4   41        0       0.0             10         1            2        0   \n",
       "\n",
       "   hours_per_week  capital_gain  capital_loss  fnlwgt  income_map  \n",
       "0              40             0          4356   77053           0  \n",
       "1              18             0          4356  132870           0  \n",
       "2              40             0          4356  186061           0  \n",
       "3              40             0          3900  140359           0  \n",
       "4              40             0          3900  264663           0  "
      ]
     },
     "execution_count": 8,
     "metadata": {},
     "output_type": "execute_result"
    }
   ],
   "source": [
    "income.head()"
   ]
  },
  {
   "cell_type": "code",
   "execution_count": 9,
   "metadata": {
    "collapsed": true
   },
   "outputs": [],
   "source": [
    "features=['age', 'sex_map', 'race_map','education_num', 'work_map', \n",
    "          'marital_map', 'rel_map', 'hours_per_week','capital_gain', \n",
    "          'capital_loss', 'fnlwgt']\n",
    "\n",
    "target=['income_map']"
   ]
  },
  {
   "cell_type": "code",
   "execution_count": 10,
   "metadata": {
    "collapsed": true
   },
   "outputs": [],
   "source": [
    "X = income[features].values\n",
    "y = income[target].values.flatten()"
   ]
  },
  {
   "cell_type": "code",
   "execution_count": 11,
   "metadata": {
    "collapsed": true
   },
   "outputs": [],
   "source": [
    "from sklearn.model_selection import train_test_split\n",
    "    \n",
    "X_train, X_test, y_train, y_test = train_test_split(X,y, random_state=0)"
   ]
  },
  {
   "cell_type": "markdown",
   "metadata": {},
   "source": [
    "# Logistic Regression"
   ]
  },
  {
   "cell_type": "code",
   "execution_count": 12,
   "metadata": {
    "collapsed": true
   },
   "outputs": [],
   "source": [
    "def logistic_regression():\n",
    "    \n",
    "    # Instantiates and trains a logistic regression model using grid search  \n",
    "    # to find optimalhyperparameter values \n",
    "    \n",
    "    from sklearn.linear_model import LogisticRegression\n",
    "    from sklearn.model_selection import GridSearchCV\n",
    "    \n",
    "    logreg = LogisticRegression()\n",
    "    grid_values = {'penalty' : ['l1', 'l2'], 'C': [0.01, 0.1, 1, 10, 100]}\n",
    "    \n",
    "    grid_lr_rec = GridSearchCV(logreg, param_grid = grid_values, scoring = 'accuracy')\n",
    "    grid_lr_rec.fit(X, y)\n",
    "    \n",
    "    return grid_lr_rec.best_estimator_"
   ]
  },
  {
   "cell_type": "code",
   "execution_count": 13,
   "metadata": {},
   "outputs": [],
   "source": [
    "logreg = logistic_regression()"
   ]
  },
  {
   "cell_type": "code",
   "execution_count": 14,
   "metadata": {
    "collapsed": true
   },
   "outputs": [],
   "source": [
    "def evaluation(model):\n",
    "    from sklearn.metrics import classification_report\n",
    "    \n",
    "    # This function gives provides verious evaluation metrics for the input model\n",
    "    \n",
    "    y_pred = model.predict(X_test)\n",
    "    \n",
    "    print(classification_report(y_test, y_pred, target_names = ['Under 50k', 'Over 50k']))\n",
    "    print('Training Set Accuracy Score: {:.2f}'.format(model.score(X_train, y_train)))\n",
    "    print('Testing Set Accuracy Score: {:.2f}'.format(model.score(X_test, y_test)))"
   ]
  },
  {
   "cell_type": "code",
   "execution_count": 15,
   "metadata": {},
   "outputs": [
    {
     "name": "stdout",
     "output_type": "stream",
     "text": [
      "             precision    recall  f1-score   support\n",
      "\n",
      "  Under 50k       0.87      0.93      0.90      6193\n",
      "   Over 50k       0.72      0.54      0.62      1948\n",
      "\n",
      "avg / total       0.83      0.84      0.83      8141\n",
      "\n",
      "Training Set Accuracy Score: 0.84\n",
      "Testing Set Accuracy Score: 0.84\n"
     ]
    }
   ],
   "source": [
    "evaluation(logreg)"
   ]
  },
  {
   "cell_type": "code",
   "execution_count": 16,
   "metadata": {},
   "outputs": [
    {
     "name": "stdout",
     "output_type": "stream",
     "text": [
      "Dummy Classifier Accuracy Score: 0.76\n"
     ]
    }
   ],
   "source": [
    "def dummy():\n",
    "    \n",
    "    # Creates a dummy classifier to always predict the more frequent class, \n",
    "    # in order to give us an idea about the existing class inbalance in our dataset.\n",
    "    \n",
    "    from sklearn.dummy import DummyClassifier\n",
    "    from sklearn.model_selection import train_test_split\n",
    "    \n",
    "    X_train, X_test, y_train, y_test = train_test_split(X,y)\n",
    "    dummy_clf = DummyClassifier(strategy = 'most_frequent').fit(X,y)\n",
    "    \n",
    "    print('Dummy Classifier Accuracy Score: {:.2f}'.format(dummy_clf.score(X_test, y_test)))\n",
    "\n",
    "dummy()"
   ]
  },
  {
   "cell_type": "markdown",
   "metadata": {},
   "source": [
    "###### Although this model initially appears to preform somewhat well with an accuracy of 84% we see that by breaking down our evaluation metrics and comparing with a dummy classifier this model falls short. \n",
    "\n",
    "Due to a class imbalance in our dataset of approximately 75%/25% simply by predicting the most frequent class the dummy classifier can achieve an accuracy score of 76%. The logistic regression model accuracy of 84% only marginally outpreforms this null baseline."
   ]
  },
  {
   "cell_type": "code",
   "execution_count": 17,
   "metadata": {
    "collapsed": true
   },
   "outputs": [],
   "source": [
    "def confusion(model):\n",
    "    \n",
    "    # Creats a confusion matrix/heatmap for the logistic regression models predicted values\n",
    "    from sklearn.metrics import confusion_matrix\n",
    "    \n",
    "    y_pred = model.predict(X_test)\n",
    "    confusion_mc = confusion_matrix(y_test, y_pred)\n",
    "    df_cm = pd.DataFrame(confusion_mc)\n",
    "\n",
    "    plt.figure(figsize=(5.5,4))\n",
    "    sns.heatmap(df_cm, annot=True)\n",
    "    plt.title('Model Accuracy:{:.3f}'.format(model.score(X_test, y_test)))"
   ]
  },
  {
   "cell_type": "code",
   "execution_count": 18,
   "metadata": {},
   "outputs": [
    {
     "data": {
      "image/png": "[encoded data removed]",
      "text/plain": [
       "<matplotlib.figure.Figure at 0x10a512c88>"
      ]
     },
     "metadata": {},
     "output_type": "display_data"
    }
   ],
   "source": [
    "confusion(logreg)"
   ]
  },
  {
   "cell_type": "code",
   "execution_count": 19,
   "metadata": {
    "collapsed": true
   },
   "outputs": [],
   "source": [
    "def precision_recall(model):\n",
    "    from sklearn.metrics import precision_recall_curve\n",
    "    \n",
    "    proba = model.predict_proba(X_test)\n",
    "    \n",
    "    precision, recall, threshold = precision_recall_curve(y_test, proba[:,1])\n",
    "    \n",
    "    plt.plot(precision, recall)\n",
    "    plt.xlabel('Precision')\n",
    "    plt.ylabel('Recall')\n",
    "    plt.title('Precision-Recall Curve')"
   ]
  },
  {
   "cell_type": "code",
   "execution_count": 20,
   "metadata": {},
   "outputs": [
    {
     "data": {
      "image/png": "[encoded data removed]",
      "text/plain": [
       "<matplotlib.figure.Figure at 0x10a9b5be0>"
      ]
     },
     "metadata": {},
     "output_type": "display_data"
    }
   ],
   "source": [
    "precision_recall(logreg)"
   ]
  },
  {
   "cell_type": "code",
   "execution_count": 21,
   "metadata": {
    "collapsed": true
   },
   "outputs": [],
   "source": [
    "def roc_curve(model):\n",
    "    from sklearn.metrics import roc_curve, auc\n",
    "    \n",
    "    #scores = model.decision_function(X_test)\n",
    "    proba = model.predict_proba(X_test)\n",
    "    \n",
    "    fpr, tpr, _ = roc_curve(y_test, proba[:,1])\n",
    "    \n",
    "    plt.plot(fpr, tpr)\n",
    "    plt.xlabel('False Positive Rate')\n",
    "    plt.ylabel('True Positive Rate')\n",
    "    plt.title('ROC Curve. AUC: {}'.format(auc(fpr, tpr)))"
   ]
  },
  {
   "cell_type": "code",
   "execution_count": 22,
   "metadata": {},
   "outputs": [
    {
     "data": {
      "image/png": "[encoded data removed]",
      "text/plain": [
       "<matplotlib.figure.Figure at 0x10af082e8>"
      ]
     },
     "metadata": {},
     "output_type": "display_data"
    }
   ],
   "source": [
    "roc_curve(logreg)"
   ]
  },
  {
   "cell_type": "markdown",
   "metadata": {},
   "source": [
    "The Precision-Recall curve shows the trade off between precision and recall scores as we vary the decision threshold for classification (using either using either a probability threshold or a decision function threshold). Likewise, the ROC curve (Receiver Operating Charastic) preforms the same feat for the True Positive Rate (recall) and the False Positive Rate. "
   ]
  },
  {
   "cell_type": "code",
   "execution_count": 23,
   "metadata": {},
   "outputs": [
    {
     "name": "stdout",
     "output_type": "stream",
     "text": [
      "Micro Average Precision Score: 0.84\n",
      "Macro Average Precision Score: 0.79\n"
     ]
    }
   ],
   "source": [
    "from sklearn.metrics import precision_score\n",
    "\n",
    "y_pred = logreg.predict(X_test)\n",
    "\n",
    "micro_avg = precision_score(y_test, y_pred, average='micro')\n",
    "macro_avg = precision_score(y_test, y_pred, average='macro')\n",
    "\n",
    "print('Micro Average Precision Score: {:.2f}'.format(\n",
    "    precision_score(y_test, y_pred, average='micro')))\n",
    "print('Macro Average Precision Score: {:.2f}'.format(\n",
    "    precision_score(y_test, y_pred, average='macro')))\n"
   ]
  },
  {
   "cell_type": "markdown",
   "metadata": {},
   "source": [
    "When the micro average (each instance has same weight) preforms better than the macro average (each class has same weight) this is an indicator that the model is preforming better on the more frequent class. This holds true with the results from the evaluation function above, in which the model performed substantially better on the class earning less than $50,000."
   ]
  },
  {
   "cell_type": "code",
   "execution_count": 24,
   "metadata": {},
   "outputs": [
    {
     "name": "stdout",
     "output_type": "stream",
     "text": [
      "Number of instances in the > $50,000 class: 7841\n",
      "Number of instances in the < $50,000 class: 24720\n"
     ]
    }
   ],
   "source": [
    "print('Number of instances in the > $50,000 class: {}'.format(\n",
    "    len(income[income.income_map ==1])))\n",
    "print('Number of instances in the < $50,000 class: {}'.format(\n",
    "    len(income[income.income_map ==0])))"
   ]
  },
  {
   "cell_type": "markdown",
   "metadata": {},
   "source": [
    "# Decision Tree Classifier"
   ]
  },
  {
   "cell_type": "code",
   "execution_count": 25,
   "metadata": {
    "collapsed": true
   },
   "outputs": [],
   "source": [
    "def decision_tree():\n",
    "    from sklearn.tree import DecisionTreeClassifier\n",
    "    from sklearn.model_selection import GridSearchCV\n",
    "    \n",
    "    grid_values = {'max_depth':np.arange(1,10), 'min_samples_leaf': np.arange(1,50,10)}\n",
    "    clf = DecisionTreeClassifier()\n",
    "    \n",
    "    grid_dec_tree = GridSearchCV(clf, param_grid = grid_values)\n",
    "    grid_dec_tree.fit(X, y)\n",
    "    \n",
    "    return grid_dec_tree.best_estimator_"
   ]
  },
  {
   "cell_type": "code",
   "execution_count": 26,
   "metadata": {
    "collapsed": true
   },
   "outputs": [],
   "source": [
    "clf_dec_tree = decision_tree()"
   ]
  },
  {
   "cell_type": "code",
   "execution_count": 27,
   "metadata": {},
   "outputs": [
    {
     "name": "stdout",
     "output_type": "stream",
     "text": [
      "             precision    recall  f1-score   support\n",
      "\n",
      "  Under 50k       0.86      0.95      0.91      6193\n",
      "   Over 50k       0.78      0.52      0.63      1948\n",
      "\n",
      "avg / total       0.84      0.85      0.84      8141\n",
      "\n",
      "Training Set Accuracy Score: 0.85\n",
      "Testing Set Accuracy Score: 0.85\n"
     ]
    }
   ],
   "source": [
    " evaluation(clf_dec_tree)"
   ]
  },
  {
   "cell_type": "code",
   "execution_count": 28,
   "metadata": {},
   "outputs": [
    {
     "data": {
      "image/png": "[encoded data removed]",
      "text/plain": [
       "<matplotlib.figure.Figure at 0x10ab68f28>"
      ]
     },
     "metadata": {},
     "output_type": "display_data"
    }
   ],
   "source": [
    "confusion(clf_dec_tree)"
   ]
  },
  {
   "cell_type": "markdown",
   "metadata": {},
   "source": [
    "# Random Forest Classifier"
   ]
  },
  {
   "cell_type": "code",
   "execution_count": 29,
   "metadata": {
    "collapsed": true
   },
   "outputs": [],
   "source": [
    "def random_forest():\n",
    "    from sklearn.ensemble import RandomForestClassifier\n",
    "    from sklearn.model_selection import GridSearchCV\n",
    "    \n",
    "    clf = RandomForestClassifier(random_state=0)\n",
    "    grid_values = {'max_depth': np.arange(1,11,2), 'max_features': np.arange(1,11,2)}\n",
    "    \n",
    "    grid_clf = GridSearchCV(clf, param_grid = grid_values)\n",
    "    grid_clf.fit(X, y)\n",
    "    \n",
    "    \n",
    "    return grid_clf.best_estimator_"
   ]
  },
  {
   "cell_type": "code",
   "execution_count": 30,
   "metadata": {
    "collapsed": true
   },
   "outputs": [],
   "source": [
    "rdm_forest_clf = random_forest()"
   ]
  },
  {
   "cell_type": "code",
   "execution_count": 31,
   "metadata": {},
   "outputs": [
    {
     "name": "stdout",
     "output_type": "stream",
     "text": [
      "             precision    recall  f1-score   support\n",
      "\n",
      "  Under 50k       0.87      0.96      0.91      6193\n",
      "   Over 50k       0.81      0.55      0.65      1948\n",
      "\n",
      "avg / total       0.86      0.86      0.85      8141\n",
      "\n",
      "Training Set Accuracy Score: 0.87\n",
      "Testing Set Accuracy Score: 0.86\n"
     ]
    }
   ],
   "source": [
    "evaluation(rdm_forest_clf)"
   ]
  },
  {
   "cell_type": "code",
   "execution_count": 32,
   "metadata": {},
   "outputs": [
    {
     "data": {
      "image/png": "[encoded data removed]",
      "text/plain": [
       "<matplotlib.figure.Figure at 0x10d0110f0>"
      ]
     },
     "metadata": {},
     "output_type": "display_data"
    }
   ],
   "source": [
    "confusion(rdm_forest_clf)"
   ]
  },
  {
   "cell_type": "code",
   "execution_count": 33,
   "metadata": {},
   "outputs": [
    {
     "data": {
      "image/png": "[encoded data removed]",
      "text/plain": [
       "<matplotlib.figure.Figure at 0x10ceb6048>"
      ]
     },
     "metadata": {},
     "output_type": "display_data"
    }
   ],
   "source": [
    "precision_recall(rdm_forest_clf)"
   ]
  },
  {
   "cell_type": "code",
   "execution_count": 34,
   "metadata": {},
   "outputs": [
    {
     "data": {
      "image/png": "[encoded data removed]",
      "text/plain": [
       "<matplotlib.figure.Figure at 0x10bb72208>"
      ]
     },
     "metadata": {},
     "output_type": "display_data"
    }
   ],
   "source": [
    "roc_curve(rdm_forest_clf)"
   ]
  },
  {
   "cell_type": "code",
   "execution_count": 35,
   "metadata": {},
   "outputs": [
    {
     "data": {
      "image/png": "[encoded data removed]",
      "text/plain": [
       "<matplotlib.figure.Figure at 0x10c71b358>"
      ]
     },
     "metadata": {},
     "output_type": "display_data"
    }
   ],
   "source": [
    "def plot_features(tree):\n",
    "\n",
    "    feats = tree.feature_importances_\n",
    "\n",
    "    plt.figure(figsize = (10,8))\n",
    "    pos = np.arange(len(features))+1\n",
    "    plt.barh(pos, feats, align='center')\n",
    "    plt.xlabel(\"Feature Importance\")\n",
    "    plt.ylabel(\"Features\")\n",
    "    plt.yticks(pos, (features));\n",
    "    \n",
    "plot_features(rdm_forest_clf)"
   ]
  },
  {
   "cell_type": "markdown",
   "metadata": {},
   "source": [
    "# Gradient Boosted Decision Trees"
   ]
  },
  {
   "cell_type": "code",
   "execution_count": 36,
   "metadata": {},
   "outputs": [
    {
     "name": "stdout",
     "output_type": "stream",
     "text": [
      "Best Parameters: {'learning_rate': 0.26000000000000001, 'max_depth': 3}\n",
      "Train Score: 0.88\n",
      "Test Score: 0.86\n"
     ]
    }
   ],
   "source": [
    "def gbdc():\n",
    "    from sklearn.ensemble import GradientBoostingClassifier\n",
    "    from sklearn.model_selection import GridSearchCV\n",
    "    \n",
    "    grid_values = {'learning_rate': np.arange(0.01, 1.1, 0.25), 'max_depth': np.arange(2,6,1)}\n",
    "    \n",
    "    clf = GradientBoostingClassifier()\n",
    "    \n",
    "    grid_gbdc = GridSearchCV(clf, param_grid = grid_values)\n",
    "    grid_gbdc.fit(X_train, y_train)\n",
    "    \n",
    "    grid_gbdc.best_estimator_.score(X_train, y_train)\n",
    "    \n",
    "    print('Best Parameters: {}'.format(grid_gbdc.best_params_))\n",
    "    print('Train Score: {:.2f}'.format(grid_gbdc.best_estimator_.score(X_train, y_train)))\n",
    "    print('Test Score: {:.2f}'.format(grid_gbdc.best_estimator_.score(X_test, y_test)))\n",
    "    \n",
    "gbdc()"
   ]
  }
 ],
 "metadata": {
  "kernelspec": {
   "display_name": "Python 3",
   "language": "python",
   "name": "python3"
  },
  "language_info": {
   "codemirror_mode": {
    "name": "ipython",
    "version": 3
   },
   "file_extension": ".py",
   "mimetype": "text/x-python",
   "name": "python",
   "nbconvert_exporter": "python",
   "pygments_lexer": "ipython3",
   "version": "3.5.2"
  }
 },
 "nbformat": 4,
 "nbformat_minor": 2
}
